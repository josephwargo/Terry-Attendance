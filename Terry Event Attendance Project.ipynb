{
 "cells": [
  {
   "cell_type": "markdown",
   "id": "5fb730d2-3204-403a-b245-fb8eb0edc609",
   "metadata": {},
   "source": [
    "**Overview**\n",
    "* This is a quick data cleaning/analysis I did for class\n",
    "* Cleaned and (roughly) analyzed event attendance at my university's business school\n",
    "* This notebook is part of a larger project in which we made used our data analysis to make attendance tracking and retention recommendations\n",
    "* We also built a Shiny Dashboard\n",
    "* Those two items are not included for privacy reasons, as they contain PII"
   ]
  },
  {
   "cell_type": "markdown",
   "id": "483114d0-d2d6-4722-8a2c-1c2834613cd0",
   "metadata": {},
   "source": [
    "## 1. Importing Packages"
   ]
  },
  {
   "cell_type": "code",
   "execution_count": 45,
   "id": "fab85e49-8059-4f78-b5bc-f311fe4aa371",
   "metadata": {},
   "outputs": [],
   "source": [
    "import pandas as pd\n",
    "import numpy as np\n",
    "import matplotlib.pyplot as plt\n",
    "import seaborn as sns"
   ]
  },
  {
   "cell_type": "markdown",
   "id": "a26eac72-2122-431b-b766-18054e72b15b",
   "metadata": {},
   "source": [
    "## 2. Importing Data"
   ]
  },
  {
   "cell_type": "markdown",
   "id": "6736d601-1b76-4089-ac8a-fac645f13c14",
   "metadata": {},
   "source": [
    "The attendance logs for each event were in their own individual csv files. I first read in each csv to a DataFrame exclusive to their event type. Then, I compiled them into a master DataFrame"
   ]
  },
  {
   "cell_type": "code",
   "execution_count": 46,
   "id": "6babe5b3-a0da-4449-87a5-6ebe428ec1fd",
   "metadata": {},
   "outputs": [],
   "source": [
    "#reading in the coffee conversations\n",
    "Coffee_Conversations = pd.DataFrame()\n",
    "for i in range(100):\n",
    "    temp_df=pd.read_excel(r'/Users/josephwargo/Downloads/USS_Mock_Survey_Results/Coffee_Conversations_'+str(i+1)+'.xlsx')\n",
    "    temp_df['Session Type']='Coffee Conversations'\n",
    "    temp_df['Session Number']=i+1\n",
    "    Coffee_Conversations=Coffee_Conversations.append(temp_df)"
   ]
  },
  {
   "cell_type": "code",
   "execution_count": 47,
   "id": "b66bdf3c-c74f-48be-a986-dfead3da4440",
   "metadata": {},
   "outputs": [],
   "source": [
    "#reading in the health and wellness chats\n",
    "Health_and_Wellness = pd.DataFrame()\n",
    "for i in range(100):\n",
    "    temp_df=pd.read_excel(r'/Users/josephwargo/Downloads/USS_Mock_Survey_Results/Health_and_Wellness_'+str(i+1)+'.xlsx')\n",
    "    temp_df['Session Type']='Health and Wellness'\n",
    "    temp_df['Session Number']=i+1\n",
    "    Health_and_Wellness=Health_and_Wellness.append(temp_df)"
   ]
  },
  {
   "cell_type": "code",
   "execution_count": 48,
   "id": "d719e343-542d-4618-a541-85a91be30e47",
   "metadata": {},
   "outputs": [],
   "source": [
    "#reading in the info sessions\n",
    "Info_Sessions = pd.DataFrame()\n",
    "for i in range(100):\n",
    "    temp_df=pd.read_excel(r'/Users/josephwargo/Downloads/USS_Mock_Survey_Results/Info_Sessions_'+str(i+1)+'.xlsx')\n",
    "    temp_df['Session Type']='Info Sessions'\n",
    "    temp_df['Session Number']=i+1\n",
    "    Info_Sessions=Info_Sessions.append(temp_df)"
   ]
  },
  {
   "cell_type": "code",
   "execution_count": 49,
   "id": "e88feba4-ae5c-44cf-8a33-3e7cebfe37ec",
   "metadata": {},
   "outputs": [],
   "source": [
    "#reading in the student alumni workshops\n",
    "Student_Alumni_Workshops = pd.DataFrame()\n",
    "for i in range(100):\n",
    "    temp_df=pd.read_excel(r'/Users/josephwargo/Downloads/USS_Mock_Survey_Results/Student_Alumni_Workshops_'+str(i+1)+'.xlsx')\n",
    "    temp_df['Session Type']='Student Alumni Workshops'\n",
    "    temp_df['Session Number']=i+1\n",
    "    Student_Alumni_Workshops=Student_Alumni_Workshops.append(temp_df)"
   ]
  },
  {
   "cell_type": "code",
   "execution_count": 50,
   "id": "5fcf54b4-d6a8-4cb8-8a1f-28d3922e9b02",
   "metadata": {},
   "outputs": [],
   "source": [
    "#reading in the Terry Majors Fairs\n",
    "Terry_Major_Fairs = pd.DataFrame()\n",
    "for i in range(5):\n",
    "    temp_df=pd.read_excel(r'/Users/josephwargo/Downloads/USS_Mock_Survey_Results/Terry_Majors_Fair_'+str(i+1)+'.xlsx')\n",
    "    temp_df['Session Type']='Terry Major Fairs'\n",
    "    temp_df['Session Number']=i+1\n",
    "    Terry_Major_Fairs=Terry_Major_Fairs.append(temp_df)"
   ]
  },
  {
   "cell_type": "code",
   "execution_count": 51,
   "id": "66d181ef-540a-43ab-ac27-c0f22ca85d93",
   "metadata": {},
   "outputs": [],
   "source": [
    "#reading in the Terry Talks\n",
    "Terry_Talks = pd.DataFrame()\n",
    "for i in range(100):\n",
    "    temp_df=pd.read_excel(r'/Users/josephwargo/Downloads/USS_Mock_Survey_Results/Terry_Talks_'+str(i+1)+'.xlsx')\n",
    "    temp_df['Session Type']='Terry Talks'\n",
    "    temp_df['Session Number']=i+1\n",
    "    Terry_Talks=Terry_Talks.append(temp_df)"
   ]
  },
  {
   "cell_type": "code",
   "execution_count": 52,
   "id": "d34d63cf-8c64-487f-be4e-95de6c155bf1",
   "metadata": {},
   "outputs": [],
   "source": [
    "#reading in the Terry_Womens_Initiatives\n",
    "Terry_Womens_Initiatives = pd.DataFrame()\n",
    "for i in range(100):\n",
    "    temp_df=pd.read_excel(r'/Users/josephwargo/Downloads/USS_Mock_Survey_Results/TWI_'+str(i+1)+'.xlsx')\n",
    "    temp_df['Session Type']='Terry Womens Initiatives'\n",
    "    temp_df['Session Number']=i+1\n",
    "    Terry_Womens_Initiatives=Terry_Womens_Initiatives.append(temp_df)"
   ]
  },
  {
   "cell_type": "code",
   "execution_count": 53,
   "id": "519679e4-62be-48ef-8136-578c7becca79",
   "metadata": {},
   "outputs": [],
   "source": [
    "#dropping superfluous rows\n",
    "Coffee_Conversations.drop(columns=['Dietary Restrictions','Question for Panelist'], inplace=True)\n",
    "Health_and_Wellness.drop(columns=['Terry Affiliation','If you are in Mark 3000/3001, what time slot?','Initals for Consent'], inplace=True)\n",
    "Info_Sessions.drop(columns=['Can we share your contact info with the Employer','Signature','Other Major'], inplace=True)\n",
    "Student_Alumni_Workshops.drop(columns=['Dietary Restrictions','Question for Panelist'], inplace=True)\n",
    "Terry_Major_Fairs.drop(columns=['Dietary Restrictions'], inplace=True)\n",
    "Terry_Talks.drop(columns=['Dietary Restrictions', 'Question for Panelist'], inplace=True)\n",
    "Terry_Womens_Initiatives.drop(columns=['Dietary Restrictions', 'Question for Panelist'], inplace=True)"
   ]
  },
  {
   "cell_type": "code",
   "execution_count": 54,
   "id": "e9caf273-7a1a-42d3-8437-e1ddc9697182",
   "metadata": {},
   "outputs": [],
   "source": [
    "#normalizing column names\n",
    "Health_and_Wellness.rename(columns={'Major':'Terry Major'},inplace=True)\n",
    "Info_Sessions.rename(columns={'Graduation Term/Year':'Graduation Year'},inplace=True)\n",
    "Terry_Major_Fairs['Terry Major']=pd.NA"
   ]
  },
  {
   "cell_type": "code",
   "execution_count": 55,
   "id": "f4da757e-0565-4af4-ae3e-4ca1e27f46f5",
   "metadata": {},
   "outputs": [],
   "source": [
    "#reordering columns\n",
    "cols=Coffee_Conversations.columns.tolist()\n",
    "Terry_Major_Fairs=Terry_Major_Fairs[cols]"
   ]
  },
  {
   "cell_type": "code",
   "execution_count": 56,
   "id": "09546abd-26b1-496a-b1ed-849825b4a5e8",
   "metadata": {},
   "outputs": [
    {
     "name": "stdout",
     "output_type": "stream",
     "text": [
      "Coffee Conversations: ['ID Number', 'First', 'Last', 'Email', 'Terry Major', 'Graduation Year', 'Session Type', 'Session Number']\n",
      "Health and Wellness: ['ID Number', 'First', 'Last', 'Email', 'Terry Major', 'Graduation Year', 'Session Type', 'Session Number']\n",
      "Info Sessions: ['ID Number', 'First', 'Last', 'Email', 'Terry Major', 'Graduation Year', 'Session Type', 'Session Number']\n",
      "Student Alumni Workshops: ['ID Number', 'First', 'Last', 'Email', 'Terry Major', 'Graduation Year', 'Session Type', 'Session Number']\n",
      "Terry Major Fairs: ['ID Number', 'First', 'Last', 'Email', 'Terry Major', 'Graduation Year', 'Session Type', 'Session Number']\n",
      "Terry Talks: ['ID Number', 'First', 'Last', 'Email', 'Terry Major', 'Graduation Year', 'Session Type', 'Session Number']\n",
      "Terry Womens Initiatives: ['ID Number', 'First', 'Last', 'Email', 'Terry Major', 'Graduation Year', 'Session Type', 'Session Number']\n"
     ]
    }
   ],
   "source": [
    "#ensuring the column names are consistent\n",
    "print('Coffee Conversations: ' + str(list(Coffee_Conversations.columns)))\n",
    "print('Health and Wellness: ' + str(list(Health_and_Wellness.columns)))\n",
    "print('Info Sessions: ' + str(list(Info_Sessions.columns)))\n",
    "print('Student Alumni Workshops: ' + str(list(Student_Alumni_Workshops.columns)))\n",
    "print('Terry Major Fairs: ' + str(list(Terry_Major_Fairs.columns)))\n",
    "print('Terry Talks: ' + str(list(Terry_Talks.columns)))\n",
    "print('Terry Womens Initiatives: ' + str(list(Terry_Womens_Initiatives.columns)))"
   ]
  },
  {
   "cell_type": "code",
   "execution_count": 57,
   "id": "efde1a45-951c-4661-9e28-38163991f2ef",
   "metadata": {},
   "outputs": [],
   "source": [
    "#merging smaller dataframes into one larger dataframe\n",
    "Terry_Events=pd.concat([Coffee_Conversations, Health_and_Wellness, Info_Sessions, Student_Alumni_Workshops, Terry_Major_Fairs,\n",
    "                        Terry_Talks, Terry_Womens_Initiatives], ignore_index=True)"
   ]
  },
  {
   "cell_type": "code",
   "execution_count": 58,
   "id": "09999584-6ff7-4064-b7f0-491e1192f1c9",
   "metadata": {},
   "outputs": [],
   "source": [
    "#changing ID Number to type int\n",
    "Terry_Events['ID Number']=Terry_Events['ID Number'].apply(int)"
   ]
  },
  {
   "cell_type": "code",
   "execution_count": 59,
   "id": "539ea8fc-bfc6-4c88-ba2a-445f1dc0271d",
   "metadata": {},
   "outputs": [],
   "source": [
    "#making Graduation Year consistent\n",
    "to_replace=['M','a','y','J','u','n','e','D','c','m','b','r','j',' ']\n",
    "Terry_Events['Graduation Year'] = Terry_Events['Graduation Year'].astype(str)\n",
    "for char in to_replace:\n",
    "    Terry_Events['Graduation Year'] = Terry_Events['Graduation Year'].apply(lambda x: x.replace(char, ''))\n",
    "Terry_Events['Graduation Year']=pd.to_numeric(Terry_Events['Graduation Year'], errors='coerce')\n",
    "Terry_Events['Graduation Year']=Terry_Events['Graduation Year'].astype('Int64')"
   ]
  },
  {
   "cell_type": "code",
   "execution_count": 60,
   "id": "1efda245-cfb3-47d1-b00d-6a687dd7931b",
   "metadata": {},
   "outputs": [
    {
     "name": "stdout",
     "output_type": "stream",
     "text": [
      "<class 'pandas.core.frame.DataFrame'>\n",
      "RangeIndex: 19139 entries, 0 to 19138\n",
      "Data columns (total 8 columns):\n",
      " #   Column           Non-Null Count  Dtype \n",
      "---  ------           --------------  ----- \n",
      " 0   ID Number        19139 non-null  int64 \n",
      " 1   First            19139 non-null  object\n",
      " 2   Last             19139 non-null  object\n",
      " 3   Email            19139 non-null  object\n",
      " 4   Terry Major      16879 non-null  object\n",
      " 5   Graduation Year  18420 non-null  Int64 \n",
      " 6   Session Type     19139 non-null  object\n",
      " 7   Session Number   19139 non-null  int64 \n",
      "dtypes: Int64(1), int64(2), object(5)\n",
      "memory usage: 1.2+ MB\n"
     ]
    }
   ],
   "source": [
    "#checking my work\n",
    "Terry_Events.info()"
   ]
  },
  {
   "cell_type": "code",
   "execution_count": 61,
   "id": "b4fd1046-18fa-47e4-88e1-d56725d46c1f",
   "metadata": {},
   "outputs": [],
   "source": [
    "#exporting to csv\n",
    "Terry_Events.to_csv('/Users/josephwargo/Desktop/UGA Final Year/Spring/MIST5730/Final Project/Final Shiny Project/Data/All_Attendance.csv',index=None)"
   ]
  },
  {
   "cell_type": "markdown",
   "id": "cc69eabb-2f81-4709-8ca6-8148e4f1ede6",
   "metadata": {},
   "source": [
    "I initially did this part in two different notebooks, hence the exporting and re-importing"
   ]
  },
  {
   "cell_type": "code",
   "execution_count": 62,
   "id": "9a907f21-834f-4f1b-be5d-6f2f2ce4935d",
   "metadata": {},
   "outputs": [],
   "source": [
    "#importing csv\n",
    "All_Attendance = pd.read_csv('/Users/josephwargo/Desktop/UGA Final Year/Spring/MIST5730/Final Project/Final Shiny Project/Data/All_Attendance.csv')"
   ]
  },
  {
   "cell_type": "code",
   "execution_count": 63,
   "id": "a035e96f-1bae-44b7-8bed-ca4f530ea99c",
   "metadata": {},
   "outputs": [],
   "source": [
    "#fixing datatypes\n",
    "All_Attendance['Graduation Year']=All_Attendance['Graduation Year'].astype('Int64')\n",
    "All_Attendance['Graduation Year']=All_Attendance['Graduation Year'].astype('category')"
   ]
  },
  {
   "cell_type": "markdown",
   "id": "9b643438-46ef-4940-b6a6-8b810588994a",
   "metadata": {},
   "source": [
    "## 3. Exploratory Data Analysis"
   ]
  },
  {
   "cell_type": "code",
   "execution_count": 64,
   "id": "95e4892a-13f1-4472-9369-0646815b7a36",
   "metadata": {},
   "outputs": [
    {
     "data": {
      "image/png": "[encoded data removed]",
      "text/plain": [
       "<Figure size 432x288 with 1 Axes>"
      ]
     },
     "metadata": {
      "needs_background": "light"
     },
     "output_type": "display_data"
    }
   ],
   "source": [
    "#getting a general idea of total attendance by session type\n",
    "ax1=sns.histplot(All_Attendance['Session Type'])\n",
    "plt.xticks(rotation=90)\n",
    "plt.show()"
   ]
  },
  {
   "cell_type": "markdown",
   "id": "ebd6c78b-afb1-4f3b-beba-56db2a3e81bd",
   "metadata": {},
   "source": [
    "**Takeaways**\n",
    "* Certain event types have more total attendance than others, but there aren't many potential takeaways because the number of events varies greatly by event type"
   ]
  },
  {
   "cell_type": "code",
   "execution_count": 65,
   "id": "c8b11b6f-a7a6-466b-a885-05b0eaeaf936",
   "metadata": {},
   "outputs": [
    {
     "data": {
      "image/png": "[encoded data removed]",
      "text/plain": [
       "<Figure size 432x288 with 1 Axes>"
      ]
     },
     "metadata": {
      "needs_background": "light"
     },
     "output_type": "display_data"
    }
   ],
   "source": [
    "#looking broadly at attendance per individual event, which also gives a rough idea of average event attendance by event type\n",
    "ax2=sns.countplot(data=All_Attendance, x='Session Type', hue='Session Number')\n",
    "plt.xticks(rotation=90)\n",
    "plt.legend([],[])\n",
    "plt.show()"
   ]
  },
  {
   "cell_type": "markdown",
   "id": "669a0d7a-d7d0-40e3-b5d8-1156cddfff7a",
   "metadata": {},
   "source": [
    "**Takeaways**\n",
    "* The major fairs are by far the most attended on average, but there are fewer of them\n",
    "* Terry Women's initiatives have a high average attendance as well"
   ]
  },
  {
   "cell_type": "code",
   "execution_count": 66,
   "id": "dc94b286-9c61-4c85-b10a-c26b5524f34e",
   "metadata": {},
   "outputs": [
    {
     "data": {
      "image/png": "[encoded data removed]",
      "text/plain": [
       "<Figure size 432x288 with 1 Axes>"
      ]
     },
     "metadata": {
      "needs_background": "light"
     },
     "output_type": "display_data"
    }
   ],
   "source": [
    "#exploring the attendance for each Major Fair \n",
    "Terry_Major_Fairs_Attendance = All_Attendance[All_Attendance['Session Type']=='Terry Major Fairs']\n",
    "ax3=sns.countplot(data=Terry_Major_Fairs_Attendance, x='Session Number')\n",
    "plt.show()"
   ]
  },
  {
   "cell_type": "markdown",
   "id": "28ec1f1b-bad3-4db6-b8be-f1e3c2b321e4",
   "metadata": {},
   "source": [
    "**Takeaways**\n",
    "* High attendance at each event\n",
    "* Total attendance is consistent"
   ]
  },
  {
   "cell_type": "code",
   "execution_count": 67,
   "id": "c1a8effd-d807-41b4-8a95-3ed3a1bc4b63",
   "metadata": {},
   "outputs": [
    {
     "data": {
      "image/png": "[encoded data removed]",
      "text/plain": [
       "<Figure size 432x288 with 1 Axes>"
      ]
     },
     "metadata": {
      "needs_background": "light"
     },
     "output_type": "display_data"
    }
   ],
   "source": [
    "#exploring individual event attendance without the major fairs to skew things\n",
    "Terry_Exclusive_Attendance = All_Attendance[All_Attendance['Session Type']!='Terry Major Fairs']\n",
    "ax3=sns.countplot(data=Terry_Exclusive_Attendance, x='Session Type', hue='Session Number')\n",
    "plt.xticks(rotation=90)\n",
    "plt.legend([],[])\n",
    "plt.show()"
   ]
  },
  {
   "cell_type": "markdown",
   "id": "8ba4baf3-19b3-41df-95e2-95abb106b14a",
   "metadata": {},
   "source": [
    "**Takeaways**\n",
    "* Coffee Chats, Info Sessions, and Terry Talks are less popular on average"
   ]
  },
  {
   "cell_type": "code",
   "execution_count": 68,
   "id": "f54c8978-6895-429f-b0c5-ecb5739957eb",
   "metadata": {},
   "outputs": [
    {
     "data": {
      "image/png": "[encoded data removed]",
      "text/plain": [
       "<Figure size 432x288 with 1 Axes>"
      ]
     },
     "metadata": {
      "needs_background": "light"
     },
     "output_type": "display_data"
    }
   ],
   "source": [
    "#looking by graduation year\n",
    "ax4=sns.countplot(data=Terry_Exclusive_Attendance, x='Session Type', hue='Graduation Year')\n",
    "plt.xticks(rotation=90)\n",
    "plt.show()"
   ]
  },
  {
   "cell_type": "markdown",
   "id": "be9927ab-ffda-47b1-afb6-a748e43cd7c5",
   "metadata": {},
   "source": [
    "**Takeaways**\n",
    "* It looks like class of 2024 has the most attendance, but barely\n",
    "* This could be because that class is applying to majors"
   ]
  },
  {
   "cell_type": "code",
   "execution_count": 69,
   "id": "f59f5124-1b2a-44d2-909d-34b849f01e73",
   "metadata": {},
   "outputs": [
    {
     "data": {
      "image/png": "[encoded data removed]",
      "text/plain": [
       "<Figure size 432x288 with 1 Axes>"
      ]
     },
     "metadata": {
      "needs_background": "light"
     },
     "output_type": "display_data"
    }
   ],
   "source": [
    "#looking by major\n",
    "x5=sns.countplot(data=Terry_Exclusive_Attendance, x='Session Type', hue='Terry Major')\n",
    "plt.xticks(rotation=90)\n",
    "plt.show()"
   ]
  },
  {
   "cell_type": "code",
   "execution_count": 70,
   "id": "93407d93-5c93-4608-aeaa-3ebb615f1e2d",
   "metadata": {},
   "outputs": [
    {
     "data": {
      "image/png": "[encoded data removed]",
      "text/plain": [
       "<Figure size 432x288 with 1 Axes>"
      ]
     },
     "metadata": {
      "needs_background": "light"
     },
     "output_type": "display_data"
    }
   ],
   "source": [
    "#total attendance by major\n",
    "ax6=sns.countplot(data=Terry_Exclusive_Attendance, x='Terry Major')\n",
    "plt.xticks(rotation=90)\n",
    "plt.show()"
   ]
  },
  {
   "cell_type": "markdown",
   "id": "cae67c29-1c1e-48bb-ab98-c0235b7c6cc5",
   "metadata": {},
   "source": [
    "**Takeaways**\n",
    "* Finance and Marketing majors attend the most\n",
    "* This may be skewed because they are the most popular majors"
   ]
  },
  {
   "cell_type": "code",
   "execution_count": 71,
   "id": "486572fd-4f2d-4803-8dc0-445ecb42f9d8",
   "metadata": {},
   "outputs": [],
   "source": [
    "#calculating the number of visits to event per students enrolled in each major (rough estimate)\n",
    "#numbers found online, not in CSV format\n",
    "risk_mgmt_attendance=len(Terry_Exclusive_Attendance[Terry_Exclusive_Attendance['Terry Major']=='Risk Management'])/548\n",
    "finance_attendance=len(Terry_Exclusive_Attendance[Terry_Exclusive_Attendance['Terry Major']=='Finance'])/1320\n",
    "econ_attendance=len(Terry_Exclusive_Attendance[Terry_Exclusive_Attendance['Terry Major']=='Economics'])/726\n",
    "mgmt_attendance=len(Terry_Exclusive_Attendance[Terry_Exclusive_Attendance['Terry Major']=='Management'])/536\n",
    "acct_attendance=len(Terry_Exclusive_Attendance[Terry_Exclusive_Attendance['Terry Major']=='Accounting'])/455\n",
    "market_attendance=len(Terry_Exclusive_Attendance[Terry_Exclusive_Attendance['Terry Major']=='Marketing'])/643\n",
    "#Real Estate attendance is unknown\n",
    "mis_attendance=len(Terry_Exclusive_Attendance[Terry_Exclusive_Attendance['Terry Major']=='MIS'])/855"
   ]
  },
  {
   "cell_type": "code",
   "execution_count": 72,
   "id": "d72a93c6-d775-41b8-b2e6-5c81b2e4503b",
   "metadata": {},
   "outputs": [
    {
     "data": {
      "image/png": "[encoded data removed]",
      "text/plain": [
       "<Figure size 432x288 with 1 Axes>"
      ]
     },
     "metadata": {
      "needs_background": "light"
     },
     "output_type": "display_data"
    }
   ],
   "source": [
    "#plotting the above data\n",
    "ax7=sns.barplot(x=['Risk Management','Finance','Economics','Management','Accounting','Marketing','MIS'],\n",
    "            y=[risk_mgmt_attendance,finance_attendance,econ_attendance,mgmt_attendance,acct_attendance,market_attendance,mis_attendance])\n",
    "plt.xticks(rotation=90)\n",
    "plt.show()"
   ]
  },
  {
   "cell_type": "markdown",
   "id": "dc81c630-f42b-4382-8697-e6f6201ce88d",
   "metadata": {},
   "source": [
    "**Takeaways**\n",
    "* Although there are a lot of Marketing majors, they show up to events at higher rates\n",
    "* MIS majors do not attend many events"
   ]
  },
  {
   "cell_type": "code",
   "execution_count": 73,
   "id": "afe2c651-8bd6-4200-9c79-184742f29f7d",
   "metadata": {},
   "outputs": [],
   "source": [
    "#creating some pivot tables for greater takeaways\n",
    "Event_Log=pd.pivot_table(data=All_Attendance,\n",
    "                        index=['Session Type', 'Session Number', 'Terry Major', 'Graduation Year'],\n",
    "                        values=['Last'], aggfunc=['count'], fill_value=0)\n",
    "Event_Log.rename(columns={'Last':'Count', 'count':''},inplace=True)\n",
    "Event_Log.sort_values(by=['Session Type', 'Session Number'], inplace=True)\n",
    "\n",
    "Event_Type_Log=pd.pivot_table(data=All_Attendance,\n",
    "                        index=['Session Type', 'Terry Major', 'Graduation Year'],\n",
    "                        values=['Last'], aggfunc=['count'], fill_value=0)\n",
    "Event_Type_Log.rename(columns={'Last':'Count', 'count':''},inplace=True)"
   ]
  },
  {
   "cell_type": "code",
   "execution_count": 74,
   "id": "6dfe1678-8ea7-40f7-9a0b-b34cdc86b34a",
   "metadata": {},
   "outputs": [
    {
     "data": {
      "text/html": [
       "<div>\n",
       "<style scoped>\n",
       "    .dataframe tbody tr th:only-of-type {\n",
       "        vertical-align: middle;\n",
       "    }\n",
       "\n",
       "    .dataframe tbody tr th {\n",
       "        vertical-align: top;\n",
       "    }\n",
       "\n",
       "    .dataframe thead tr th {\n",
       "        text-align: left;\n",
       "    }\n",
       "\n",
       "    .dataframe thead tr:last-of-type th {\n",
       "        text-align: right;\n",
       "    }\n",
       "</style>\n",
       "<table border=\"1\" class=\"dataframe\">\n",
       "  <thead>\n",
       "    <tr>\n",
       "      <th></th>\n",
       "      <th></th>\n",
       "      <th></th>\n",
       "      <th></th>\n",
       "      <th></th>\n",
       "    </tr>\n",
       "    <tr>\n",
       "      <th></th>\n",
       "      <th></th>\n",
       "      <th></th>\n",
       "      <th></th>\n",
       "      <th>Count</th>\n",
       "    </tr>\n",
       "    <tr>\n",
       "      <th>Session Type</th>\n",
       "      <th>Session Number</th>\n",
       "      <th>Terry Major</th>\n",
       "      <th>Graduation Year</th>\n",
       "      <th></th>\n",
       "    </tr>\n",
       "  </thead>\n",
       "  <tbody>\n",
       "    <tr>\n",
       "      <th rowspan=\"5\" valign=\"top\">Coffee Conversations</th>\n",
       "      <th rowspan=\"5\" valign=\"top\">1</th>\n",
       "      <th rowspan=\"4\" valign=\"top\">Accounting</th>\n",
       "      <th>2022</th>\n",
       "      <td>1</td>\n",
       "    </tr>\n",
       "    <tr>\n",
       "      <th>2023</th>\n",
       "      <td>1</td>\n",
       "    </tr>\n",
       "    <tr>\n",
       "      <th>2024</th>\n",
       "      <td>2</td>\n",
       "    </tr>\n",
       "    <tr>\n",
       "      <th>2025</th>\n",
       "      <td>0</td>\n",
       "    </tr>\n",
       "    <tr>\n",
       "      <th>Economics</th>\n",
       "      <th>2022</th>\n",
       "      <td>0</td>\n",
       "    </tr>\n",
       "    <tr>\n",
       "      <th>...</th>\n",
       "      <th>...</th>\n",
       "      <th>...</th>\n",
       "      <th>...</th>\n",
       "      <td>...</td>\n",
       "    </tr>\n",
       "    <tr>\n",
       "      <th rowspan=\"5\" valign=\"top\">Terry Womens Initiatives</th>\n",
       "      <th rowspan=\"5\" valign=\"top\">100</th>\n",
       "      <th>Real Estate</th>\n",
       "      <th>2025</th>\n",
       "      <td>0</td>\n",
       "    </tr>\n",
       "    <tr>\n",
       "      <th rowspan=\"4\" valign=\"top\">Risk Management</th>\n",
       "      <th>2022</th>\n",
       "      <td>0</td>\n",
       "    </tr>\n",
       "    <tr>\n",
       "      <th>2023</th>\n",
       "      <td>0</td>\n",
       "    </tr>\n",
       "    <tr>\n",
       "      <th>2024</th>\n",
       "      <td>1</td>\n",
       "    </tr>\n",
       "    <tr>\n",
       "      <th>2025</th>\n",
       "      <td>0</td>\n",
       "    </tr>\n",
       "  </tbody>\n",
       "</table>\n",
       "<p>25200 rows × 1 columns</p>\n",
       "</div>"
      ],
      "text/plain": [
       "                                                                             \n",
       "                                                                        Count\n",
       "Session Type             Session Number Terry Major     Graduation Year      \n",
       "Coffee Conversations     1              Accounting      2022                1\n",
       "                                                        2023                1\n",
       "                                                        2024                2\n",
       "                                                        2025                0\n",
       "                                        Economics       2022                0\n",
       "...                                                                       ...\n",
       "Terry Womens Initiatives 100            Real Estate     2025                0\n",
       "                                        Risk Management 2022                0\n",
       "                                                        2023                0\n",
       "                                                        2024                1\n",
       "                                                        2025                0\n",
       "\n",
       "[25200 rows x 1 columns]"
      ]
     },
     "execution_count": 74,
     "metadata": {},
     "output_type": "execute_result"
    }
   ],
   "source": [
    "#breaking down event attendance by major and grad year for each individual session\n",
    "Event_Log"
   ]
  },
  {
   "cell_type": "code",
   "execution_count": 75,
   "id": "6b200620-bfbc-4d71-91ae-f13b15829929",
   "metadata": {},
   "outputs": [
    {
     "data": {
      "text/html": [
       "<div>\n",
       "<style scoped>\n",
       "    .dataframe tbody tr th:only-of-type {\n",
       "        vertical-align: middle;\n",
       "    }\n",
       "\n",
       "    .dataframe tbody tr th {\n",
       "        vertical-align: top;\n",
       "    }\n",
       "\n",
       "    .dataframe thead tr th {\n",
       "        text-align: left;\n",
       "    }\n",
       "\n",
       "    .dataframe thead tr:last-of-type th {\n",
       "        text-align: right;\n",
       "    }\n",
       "</style>\n",
       "<table border=\"1\" class=\"dataframe\">\n",
       "  <thead>\n",
       "    <tr>\n",
       "      <th></th>\n",
       "      <th></th>\n",
       "      <th></th>\n",
       "      <th></th>\n",
       "    </tr>\n",
       "    <tr>\n",
       "      <th></th>\n",
       "      <th></th>\n",
       "      <th></th>\n",
       "      <th>Count</th>\n",
       "    </tr>\n",
       "    <tr>\n",
       "      <th>Session Type</th>\n",
       "      <th>Terry Major</th>\n",
       "      <th>Graduation Year</th>\n",
       "      <th></th>\n",
       "    </tr>\n",
       "  </thead>\n",
       "  <tbody>\n",
       "    <tr>\n",
       "      <th rowspan=\"5\" valign=\"top\">Coffee Conversations</th>\n",
       "      <th rowspan=\"4\" valign=\"top\">Accounting</th>\n",
       "      <th>2022</th>\n",
       "      <td>68</td>\n",
       "    </tr>\n",
       "    <tr>\n",
       "      <th>2023</th>\n",
       "      <td>54</td>\n",
       "    </tr>\n",
       "    <tr>\n",
       "      <th>2024</th>\n",
       "      <td>46</td>\n",
       "    </tr>\n",
       "    <tr>\n",
       "      <th>2025</th>\n",
       "      <td>40</td>\n",
       "    </tr>\n",
       "    <tr>\n",
       "      <th>Economics</th>\n",
       "      <th>2022</th>\n",
       "      <td>28</td>\n",
       "    </tr>\n",
       "    <tr>\n",
       "      <th>...</th>\n",
       "      <th>...</th>\n",
       "      <th>...</th>\n",
       "      <td>...</td>\n",
       "    </tr>\n",
       "    <tr>\n",
       "      <th rowspan=\"5\" valign=\"top\">Terry Womens Initiatives</th>\n",
       "      <th>Real Estate</th>\n",
       "      <th>2025</th>\n",
       "      <td>105</td>\n",
       "    </tr>\n",
       "    <tr>\n",
       "      <th rowspan=\"4\" valign=\"top\">Risk Management</th>\n",
       "      <th>2022</th>\n",
       "      <td>98</td>\n",
       "    </tr>\n",
       "    <tr>\n",
       "      <th>2023</th>\n",
       "      <td>105</td>\n",
       "    </tr>\n",
       "    <tr>\n",
       "      <th>2024</th>\n",
       "      <td>106</td>\n",
       "    </tr>\n",
       "    <tr>\n",
       "      <th>2025</th>\n",
       "      <td>98</td>\n",
       "    </tr>\n",
       "  </tbody>\n",
       "</table>\n",
       "<p>252 rows × 1 columns</p>\n",
       "</div>"
      ],
      "text/plain": [
       "                                                              \n",
       "                                                         Count\n",
       "Session Type             Terry Major     Graduation Year      \n",
       "Coffee Conversations     Accounting      2022               68\n",
       "                                         2023               54\n",
       "                                         2024               46\n",
       "                                         2025               40\n",
       "                         Economics       2022               28\n",
       "...                                                        ...\n",
       "Terry Womens Initiatives Real Estate     2025              105\n",
       "                         Risk Management 2022               98\n",
       "                                         2023              105\n",
       "                                         2024              106\n",
       "                                         2025               98\n",
       "\n",
       "[252 rows x 1 columns]"
      ]
     },
     "execution_count": 75,
     "metadata": {},
     "output_type": "execute_result"
    }
   ],
   "source": [
    "#breaking down event attendance by major and grad year for each type of session\n",
    "Event_Type_Log"
   ]
  }
 ],
 "metadata": {
  "kernelspec": {
   "display_name": "Python 3 (ipykernel)",
   "language": "python",
   "name": "python3"
  },
  "language_info": {
   "codemirror_mode": {
    "name": "ipython",
    "version": 3
   },
   "file_extension": ".py",
   "mimetype": "text/x-python",
   "name": "python",
   "nbconvert_exporter": "python",
   "pygments_lexer": "ipython3",
   "version": "3.9.7"
  }
 },
 "nbformat": 4,
 "nbformat_minor": 5
}
